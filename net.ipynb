{
  "cells": [
    {
      "cell_type": "code",
      "execution_count": 1,
      "id": "1c04b9a8",
      "metadata": {
        "colab": {
          "base_uri": "https://localhost:8080/"
        },
        "id": "1c04b9a8",
        "outputId": "cfbc8208-60e6-4ab7-f2b7-7a60f60b154d"
      },
      "outputs": [
        {
          "output_type": "stream",
          "name": "stdout",
          "text": [
            "Requirement already satisfied: tsai in /usr/local/lib/python3.7/dist-packages (0.3.0)\n",
            "Requirement already satisfied: packaging in /usr/local/lib/python3.7/dist-packages (from tsai) (21.3)\n",
            "Requirement already satisfied: pyts>=0.12.0 in /usr/local/lib/python3.7/dist-packages (from tsai) (0.12.0)\n",
            "Requirement already satisfied: pip in /usr/local/lib/python3.7/dist-packages (from tsai) (21.1.3)\n",
            "Requirement already satisfied: torch<1.11,>=1.7.0 in /usr/local/lib/python3.7/dist-packages (from tsai) (1.10.0+cu111)\n",
            "Requirement already satisfied: psutil>=5.4.8 in /usr/local/lib/python3.7/dist-packages (from tsai) (5.4.8)\n",
            "Requirement already satisfied: fastai>=2.5.3 in /usr/local/lib/python3.7/dist-packages (from tsai) (2.5.6)\n",
            "Requirement already satisfied: nbformat>=5.1.3 in /usr/local/lib/python3.7/dist-packages (from tsai) (5.2.0)\n",
            "Requirement already satisfied: imbalanced-learn>=0.8.0 in /usr/local/lib/python3.7/dist-packages (from tsai) (0.8.1)\n",
            "Requirement already satisfied: spacy<4 in /usr/local/lib/python3.7/dist-packages (from fastai>=2.5.3->tsai) (2.2.4)\n",
            "Requirement already satisfied: fastcore<1.5,>=1.3.27 in /usr/local/lib/python3.7/dist-packages (from fastai>=2.5.3->tsai) (1.4.2)\n",
            "Requirement already satisfied: pillow>6.0.0 in /usr/local/lib/python3.7/dist-packages (from fastai>=2.5.3->tsai) (7.1.2)\n",
            "Requirement already satisfied: fastdownload<2,>=0.0.5 in /usr/local/lib/python3.7/dist-packages (from fastai>=2.5.3->tsai) (0.0.5)\n",
            "Requirement already satisfied: matplotlib in /usr/local/lib/python3.7/dist-packages (from fastai>=2.5.3->tsai) (3.2.2)\n",
            "Requirement already satisfied: scikit-learn in /usr/local/lib/python3.7/dist-packages (from fastai>=2.5.3->tsai) (1.0.2)\n",
            "Requirement already satisfied: pyyaml in /usr/local/lib/python3.7/dist-packages (from fastai>=2.5.3->tsai) (3.13)\n",
            "Requirement already satisfied: scipy in /usr/local/lib/python3.7/dist-packages (from fastai>=2.5.3->tsai) (1.4.1)\n",
            "Requirement already satisfied: fastprogress>=0.2.4 in /usr/local/lib/python3.7/dist-packages (from fastai>=2.5.3->tsai) (1.0.2)\n",
            "Requirement already satisfied: torchvision>=0.8.2 in /usr/local/lib/python3.7/dist-packages (from fastai>=2.5.3->tsai) (0.11.1+cu111)\n",
            "Requirement already satisfied: pandas in /usr/local/lib/python3.7/dist-packages (from fastai>=2.5.3->tsai) (1.3.5)\n",
            "Requirement already satisfied: requests in /usr/local/lib/python3.7/dist-packages (from fastai>=2.5.3->tsai) (2.23.0)\n",
            "Requirement already satisfied: numpy>=1.13.3 in /usr/local/lib/python3.7/dist-packages (from imbalanced-learn>=0.8.0->tsai) (1.21.5)\n",
            "Requirement already satisfied: joblib>=0.11 in /usr/local/lib/python3.7/dist-packages (from imbalanced-learn>=0.8.0->tsai) (1.1.0)\n",
            "Requirement already satisfied: jsonschema!=2.5.0,>=2.4 in /usr/local/lib/python3.7/dist-packages (from nbformat>=5.1.3->tsai) (4.3.3)\n",
            "Requirement already satisfied: traitlets>=4.1 in /usr/local/lib/python3.7/dist-packages (from nbformat>=5.1.3->tsai) (5.1.1)\n",
            "Requirement already satisfied: jupyter-core in /usr/local/lib/python3.7/dist-packages (from nbformat>=5.1.3->tsai) (4.9.2)\n",
            "Requirement already satisfied: typing-extensions in /usr/local/lib/python3.7/dist-packages (from jsonschema!=2.5.0,>=2.4->nbformat>=5.1.3->tsai) (3.10.0.2)\n",
            "Requirement already satisfied: pyrsistent!=0.17.0,!=0.17.1,!=0.17.2,>=0.14.0 in /usr/local/lib/python3.7/dist-packages (from jsonschema!=2.5.0,>=2.4->nbformat>=5.1.3->tsai) (0.18.1)\n",
            "Requirement already satisfied: importlib-metadata in /usr/local/lib/python3.7/dist-packages (from jsonschema!=2.5.0,>=2.4->nbformat>=5.1.3->tsai) (4.11.3)\n",
            "Requirement already satisfied: attrs>=17.4.0 in /usr/local/lib/python3.7/dist-packages (from jsonschema!=2.5.0,>=2.4->nbformat>=5.1.3->tsai) (21.4.0)\n",
            "Requirement already satisfied: importlib-resources>=1.4.0 in /usr/local/lib/python3.7/dist-packages (from jsonschema!=2.5.0,>=2.4->nbformat>=5.1.3->tsai) (5.4.0)\n",
            "Requirement already satisfied: zipp>=3.1.0 in /usr/local/lib/python3.7/dist-packages (from importlib-resources>=1.4.0->jsonschema!=2.5.0,>=2.4->nbformat>=5.1.3->tsai) (3.7.0)\n",
            "Requirement already satisfied: numba>=0.48.0 in /usr/local/lib/python3.7/dist-packages (from pyts>=0.12.0->tsai) (0.51.2)\n",
            "Requirement already satisfied: llvmlite<0.35,>=0.34.0.dev0 in /usr/local/lib/python3.7/dist-packages (from numba>=0.48.0->pyts>=0.12.0->tsai) (0.34.0)\n",
            "Requirement already satisfied: setuptools in /usr/local/lib/python3.7/dist-packages (from numba>=0.48.0->pyts>=0.12.0->tsai) (57.4.0)\n",
            "Requirement already satisfied: threadpoolctl>=2.0.0 in /usr/local/lib/python3.7/dist-packages (from scikit-learn->fastai>=2.5.3->tsai) (3.1.0)\n",
            "Requirement already satisfied: tqdm<5.0.0,>=4.38.0 in /usr/local/lib/python3.7/dist-packages (from spacy<4->fastai>=2.5.3->tsai) (4.63.0)\n",
            "Requirement already satisfied: cymem<2.1.0,>=2.0.2 in /usr/local/lib/python3.7/dist-packages (from spacy<4->fastai>=2.5.3->tsai) (2.0.6)\n",
            "Requirement already satisfied: thinc==7.4.0 in /usr/local/lib/python3.7/dist-packages (from spacy<4->fastai>=2.5.3->tsai) (7.4.0)\n",
            "Requirement already satisfied: catalogue<1.1.0,>=0.0.7 in /usr/local/lib/python3.7/dist-packages (from spacy<4->fastai>=2.5.3->tsai) (1.0.0)\n",
            "Requirement already satisfied: plac<1.2.0,>=0.9.6 in /usr/local/lib/python3.7/dist-packages (from spacy<4->fastai>=2.5.3->tsai) (1.1.3)\n",
            "Requirement already satisfied: murmurhash<1.1.0,>=0.28.0 in /usr/local/lib/python3.7/dist-packages (from spacy<4->fastai>=2.5.3->tsai) (1.0.6)\n",
            "Requirement already satisfied: wasabi<1.1.0,>=0.4.0 in /usr/local/lib/python3.7/dist-packages (from spacy<4->fastai>=2.5.3->tsai) (0.9.0)\n",
            "Requirement already satisfied: srsly<1.1.0,>=1.0.2 in /usr/local/lib/python3.7/dist-packages (from spacy<4->fastai>=2.5.3->tsai) (1.0.5)\n",
            "Requirement already satisfied: blis<0.5.0,>=0.4.0 in /usr/local/lib/python3.7/dist-packages (from spacy<4->fastai>=2.5.3->tsai) (0.4.1)\n",
            "Requirement already satisfied: preshed<3.1.0,>=3.0.2 in /usr/local/lib/python3.7/dist-packages (from spacy<4->fastai>=2.5.3->tsai) (3.0.6)\n",
            "Requirement already satisfied: chardet<4,>=3.0.2 in /usr/local/lib/python3.7/dist-packages (from requests->fastai>=2.5.3->tsai) (3.0.4)\n",
            "Requirement already satisfied: idna<3,>=2.5 in /usr/local/lib/python3.7/dist-packages (from requests->fastai>=2.5.3->tsai) (2.10)\n",
            "Requirement already satisfied: certifi>=2017.4.17 in /usr/local/lib/python3.7/dist-packages (from requests->fastai>=2.5.3->tsai) (2021.10.8)\n",
            "Requirement already satisfied: urllib3!=1.25.0,!=1.25.1,<1.26,>=1.21.1 in /usr/local/lib/python3.7/dist-packages (from requests->fastai>=2.5.3->tsai) (1.24.3)\n",
            "Requirement already satisfied: cycler>=0.10 in /usr/local/lib/python3.7/dist-packages (from matplotlib->fastai>=2.5.3->tsai) (0.11.0)\n",
            "Requirement already satisfied: pyparsing!=2.0.4,!=2.1.2,!=2.1.6,>=2.0.1 in /usr/local/lib/python3.7/dist-packages (from matplotlib->fastai>=2.5.3->tsai) (3.0.7)\n",
            "Requirement already satisfied: python-dateutil>=2.1 in /usr/local/lib/python3.7/dist-packages (from matplotlib->fastai>=2.5.3->tsai) (2.8.2)\n",
            "Requirement already satisfied: kiwisolver>=1.0.1 in /usr/local/lib/python3.7/dist-packages (from matplotlib->fastai>=2.5.3->tsai) (1.4.0)\n",
            "Requirement already satisfied: six>=1.5 in /usr/local/lib/python3.7/dist-packages (from python-dateutil>=2.1->matplotlib->fastai>=2.5.3->tsai) (1.15.0)\n",
            "Requirement already satisfied: pytz>=2017.3 in /usr/local/lib/python3.7/dist-packages (from pandas->fastai>=2.5.3->tsai) (2018.9)\n"
          ]
        }
      ],
      "source": [
        "!pip install tsai\n",
        "import pandas as pd\n",
        "import numpy as np\n",
        "import matplotlib.pyplot as plt"
      ]
    },
    {
      "cell_type": "code",
      "execution_count": 2,
      "id": "5e238f44",
      "metadata": {
        "id": "5e238f44"
      },
      "outputs": [],
      "source": [
        "# TCN IMPLEMENTATION\n",
        "\n",
        "# Bai, S., Kolter, J. Z., & Koltun, V. (2018). An empirical evaluation of generic convolutional and recurrent networks for sequence modeling. arXiv preprint arXiv:1803.01271.\n",
        "# Official TCN PyTorch implementation: https://github.com/locuslab/TCN\n",
        "\n",
        "import torch\n",
        "import torch.nn as nn\n",
        "from torch.nn.utils import weight_norm\n",
        "\n",
        "\n",
        "class Chomp1d(nn.Module):\n",
        "    def __init__(self, chomp_size):\n",
        "        super(Chomp1d, self).__init__()\n",
        "        self.chomp_size = chomp_size\n",
        "\n",
        "    def forward(self, x):\n",
        "        return x[:, :, :-self.chomp_size].contiguous()\n",
        "\n",
        "\n",
        "class TemporalBlock(nn.Module):\n",
        "    def __init__(self, n_inputs, n_outputs, kernel_size, stride, dilation, padding, dropout=0.2):\n",
        "        super(TemporalBlock, self).__init__()\n",
        "        self.conv1 = weight_norm(nn.Conv1d(n_inputs, n_outputs, kernel_size,\n",
        "                                           stride=stride, padding=padding, dilation=dilation))\n",
        "        self.chomp1 = Chomp1d(padding)\n",
        "        self.relu1 = nn.ReLU()\n",
        "        self.dropout1 = nn.Dropout(dropout)\n",
        "\n",
        "        self.conv2 = weight_norm(nn.Conv1d(n_outputs, n_outputs, kernel_size,\n",
        "                                           stride=stride, padding=padding, dilation=dilation))\n",
        "        self.chomp2 = Chomp1d(padding)\n",
        "        self.relu2 = nn.ReLU()\n",
        "        self.dropout2 = nn.Dropout(dropout)\n",
        "\n",
        "        self.net = nn.Sequential(self.conv1, self.chomp1, self.relu1, self.dropout1,\n",
        "                                 self.conv2, self.chomp2, self.relu2, self.dropout2)\n",
        "        self.downsample = nn.Conv1d(n_inputs, n_outputs, 1) if n_inputs != n_outputs else None\n",
        "        self.relu = nn.ReLU()\n",
        "        self.init_weights()\n",
        "\n",
        "    def init_weights(self):\n",
        "        self.conv1.weight.data.normal_(0, 0.01)\n",
        "        self.conv2.weight.data.normal_(0, 0.01)\n",
        "        if self.downsample is not None:\n",
        "            self.downsample.weight.data.normal_(0, 0.01)\n",
        "\n",
        "    def forward(self, x):\n",
        "        out = self.net(x)\n",
        "        res = x if self.downsample is None else self.downsample(x)\n",
        "        return self.relu(out + res)\n",
        "\n",
        "\n",
        "class TemporalConvNet(nn.Module):\n",
        "    def __init__(self, num_inputs, num_channels, kernel_size=2, dropout=0.2):\n",
        "        super(TemporalConvNet, self).__init__()\n",
        "        layers = []\n",
        "        num_levels = len(num_channels)\n",
        "        for i in range(num_levels):\n",
        "            dilation_size = 2 ** i\n",
        "            in_channels = num_inputs if i == 0 else num_channels[i-1]\n",
        "            out_channels = num_channels[i]\n",
        "            layers += [TemporalBlock(in_channels, out_channels, kernel_size, stride=1, dilation=dilation_size,\n",
        "                                     padding=(kernel_size-1) * dilation_size, dropout=dropout)]\n",
        "\n",
        "        self.network = nn.Sequential(*layers)\n",
        "\n",
        "    def forward(self, x):\n",
        "        return self.network(x)"
      ]
    },
    {
      "cell_type": "code",
      "execution_count": 3,
      "id": "8988bb29",
      "metadata": {
        "id": "8988bb29"
      },
      "outputs": [],
      "source": [
        "import torch.nn.functional as F\n",
        "from torch import nn\n",
        "\n",
        "class TCN(nn.Module):\n",
        "    def __init__(self, input_size, output_size, num_channels, kernel_size, dropout):\n",
        "        super(TCN, self).__init__()\n",
        "        self.tcn = TemporalConvNet(input_size, num_channels, kernel_size=kernel_size, dropout=dropout)\n",
        "        self.linear = nn.Linear(num_channels[-1], output_size)\n",
        "\n",
        "    def forward(self, inputs):\n",
        "        \"\"\"Inputs have to have dimension (N, C_in, L_in)\"\"\"\n",
        "        y1 = self.tcn(inputs)  # input should have dimension (N, C, L)\n",
        "        o = self.linear(y1[:, :, -1])\n",
        "        return o"
      ]
    },
    {
      "cell_type": "code",
      "source": [
        "class VolForecastSingleHorizon(nn.Module):\n",
        "    def __init__(self, input_dim, horizon):\n",
        "        super(VolForecastSingleHorizon, self).__init__()\n",
        "        self.input_dim = input_dim\n",
        "        self.horizon = horizon\n",
        "\n",
        "        self.tcn = TCN(input_size=input_dim, output_size=1, num_channels=8*[25], kernel_size=7, dropout=0.1)\n",
        "    \n",
        "    def forward(self, x):\n",
        "        return self.tcn(x)\n",
        "\n",
        "# class VolForecastMultipleHorizons(nn.Module):\n",
        "#     def __init__(self, input_dim, horizon):\n",
        "#         super(VolForecastMultipleHorizons, self).__init__()\n",
        "#         self.input_dim = input_dim\n",
        "#         self.horizon = horizon\n",
        "\n",
        "#         self.tcn = TCN(input_size=input_dim, output_size=horizon, num_channels=[300, 250, 200, 200, 150, 100], kernel_size=7, dropout=0.1)\n",
        "    \n",
        "#     def forward(self, x):\n",
        "#         return self.tcn(x)"
      ],
      "metadata": {
        "id": "pbl1joAlY2sj"
      },
      "id": "pbl1joAlY2sj",
      "execution_count": 4,
      "outputs": []
    },
    {
      "cell_type": "code",
      "execution_count": 5,
      "id": "59066ca8",
      "metadata": {
        "id": "59066ca8"
      },
      "outputs": [],
      "source": [
        "import math\n",
        "\n",
        "def get_device():\n",
        "    if torch.cuda.is_available():\n",
        "        device = torch.device('cuda:0')\n",
        "    else:\n",
        "        device = torch.device('cpu') # don't have GPU \n",
        "    return device\n",
        "\n",
        "def df_to_tensor(df):\n",
        "    device = get_device()\n",
        "    return torch.from_numpy(df.values).float().to(device)\n",
        "\n",
        "def get_data_single_horizon(file_name, input_dim, horizon, val_ratio=0.01):\n",
        "    # Get data from csv\n",
        "    df = pd.read_csv(file_name)\n",
        "    inputs = df_to_tensor(df[['vol']])\n",
        "    outputs = df_to_tensor(df[['vol']])\n",
        "    \n",
        "    # Group input_dim concecutive input points together, and horizon concecutive output vectors together\n",
        "    inputs = torch.stack([inputs[i:i - input_dim - horizon] for i in range(input_dim)], dim = 1)\n",
        "    outputs = outputs[input_dim + horizon:]\n",
        "\n",
        "    assert len(inputs) == len(outputs), f\"Input and output arrays have different lengths: {len(inputs)} \\= {len(outputs)}\"\n",
        "    \n",
        "    # Do train/validation split\n",
        "    val_len = math.ceil(val_ratio * len(inputs))\n",
        "    train_x = inputs[:-val_len]\n",
        "    train_y = outputs[:-val_len]\n",
        "    val_x = inputs[-val_len:]\n",
        "    val_y = outputs[-val_len:]\n",
        "\n",
        "    print(\"Train input dimension:\", train_x.shape)\n",
        "    print(\"Train output dimension:\", train_y.shape)\n",
        "    print(\"Validation input dimension:\", val_x.shape)\n",
        "    print(\"Validation output dimension:\", val_y.shape)\n",
        "\n",
        "    return train_x, train_y, val_x, val_y\n",
        "\n",
        "# def get_data_multiple_horizons(file_name, input_dim, horizon, val_ratio=0.01):\n",
        "#     # Get data from csv\n",
        "#     df = pd.read_csv(file_name)\n",
        "#     inputs = df_to_tensor(df[['vol']])\n",
        "#     outputs = df_to_tensor(df[['vol']])\n",
        "    \n",
        "#     # Group input_dim concecutive input points together, and horizon concecutive output vectors together\n",
        "#     inputs = torch.stack([inputs[i:i - input_dim - horizon] for i in range(input_dim)], dim = 1)\n",
        "#     outputs = torch.stack([outputs[input_dim + i:i - horizon] for i in range(horizon)], dim = 1).squeeze()\n",
        "\n",
        "#     assert len(inputs) == len(outputs), f\"Input and output arrays have different lengths: {len(inputs)} \\= {len(outputs)}\"\n",
        "    \n",
        "#     # Do train/validation split\n",
        "#     val_len = math.ceil(val_ratio * len(inputs))\n",
        "#     train_x = inputs[:-val_len]\n",
        "#     train_y = outputs[:-val_len]\n",
        "#     val_x = inputs[-val_len:]\n",
        "#     val_y = outputs[-val_len:]\n",
        "\n",
        "#     print(\"Train input dimension:\", train_x.shape)\n",
        "#     print(\"Train output dimension:\", train_y.shape)\n",
        "#     print(\"Validation input dimension:\", val_x.shape)\n",
        "#     print(\"Validation output dimension:\", val_y.shape)\n",
        "\n",
        "#     return train_x, train_y, val_x, val_y"
      ]
    },
    {
      "cell_type": "code",
      "execution_count": 6,
      "id": "43beaa2a",
      "metadata": {
        "id": "43beaa2a"
      },
      "outputs": [],
      "source": [
        "from pandas.core.dtypes.cast import validate_numeric_casting\n",
        "import torch.optim as optim\n",
        "\n",
        "def train(model, opts, train_x, train_y, val_x, val_y):\n",
        "    loss_fn = nn.MSELoss()\n",
        "    input_dim = model.input_dim\n",
        "    batch_size = opts['batch_size']\n",
        "    validation_period = opts['validation_period']\n",
        "\n",
        "    optimizer = optim.Adam(model.parameters(), lr=0.01)\n",
        "    \n",
        "    train_losses = []\n",
        "    val_losses = []\n",
        "    \n",
        "    for epoch in range(opts['nepochs']):\n",
        "        # Sample batch input randomly\n",
        "        random_ids = np.random.randint(len(train_x), size=batch_size)\n",
        "        train_input = train_x[random_ids]\n",
        "        train_output = train_y[random_ids]        \n",
        "\n",
        "        optimizer.zero_grad()\n",
        "        loss = loss_fn(model(train_input), train_output)\n",
        "        loss.backward()\n",
        "        optimizer.step()\n",
        "\n",
        "        if (epoch+1) % validation_period == 0:\n",
        "            train_losses += [loss]\n",
        "\n",
        "            val_loss = loss_fn(model(val_x), val_y)\n",
        "            val_losses += [val_loss]\n",
        "  \n",
        "            print(f\"Epoch: {epoch}, training loss: {loss}, validation loss: {val_loss}\")\n",
        "    \n",
        "    return train_losses, val_losses"
      ]
    },
    {
      "cell_type": "code",
      "execution_count": 7,
      "id": "c92af5f4",
      "metadata": {
        "colab": {
          "base_uri": "https://localhost:8080/"
        },
        "id": "c92af5f4",
        "outputId": "830f177c-9116-46a5-c74b-e4d11135c572"
      },
      "outputs": [
        {
          "output_type": "stream",
          "name": "stdout",
          "text": [
            "Train input dimension: torch.Size([571369, 300, 1])\n",
            "Train output dimension: torch.Size([571369, 1])\n",
            "Validation input dimension: torch.Size([5772, 300, 1])\n",
            "Validation output dimension: torch.Size([5772, 1])\n"
          ]
        }
      ],
      "source": [
        "input_dim=300\n",
        "horizon=50\n",
        "model=VolForecastSingleHorizon(input_dim=input_dim, horizon=horizon)\n",
        "train_x, train_y, val_x, val_y = get_data_single_horizon('5sec_intervals_no_na_normed.csv', input_dim=input_dim, horizon=horizon)"
      ]
    },
    {
      "cell_type": "code",
      "execution_count": 8,
      "id": "2fdd7646",
      "metadata": {
        "colab": {
          "base_uri": "https://localhost:8080/"
        },
        "id": "2fdd7646",
        "outputId": "02440510-93a8-4aff-dd96-49d08a85020e"
      },
      "outputs": [
        {
          "output_type": "stream",
          "name": "stdout",
          "text": [
            "Epoch: 0, training loss: 6.89976692199707, validation loss: 9.23324203491211\n",
            "Epoch: 50, training loss: 0.6705580949783325, validation loss: 0.11639296263456345\n",
            "Epoch: 100, training loss: 0.6796498894691467, validation loss: 0.08853588998317719\n",
            "Epoch: 150, training loss: 0.24098455905914307, validation loss: 0.16826435923576355\n",
            "Epoch: 200, training loss: 0.06302161514759064, validation loss: 0.09835638105869293\n",
            "Epoch: 250, training loss: 0.05724390596151352, validation loss: 0.1300203800201416\n",
            "Epoch: 300, training loss: 0.41988930106163025, validation loss: 0.09525930881500244\n",
            "Epoch: 350, training loss: 0.0909641906619072, validation loss: 0.08277499675750732\n",
            "Epoch: 400, training loss: 0.2852536737918854, validation loss: 0.07174279540777206\n",
            "Epoch: 450, training loss: 0.07680054008960724, validation loss: 0.0742703303694725\n"
          ]
        }
      ],
      "source": [
        "opts = {\n",
        "    \"nepochs\": 500,\n",
        "    \"batch_size\": 128,\n",
        "    \"validation_period\": 50\n",
        "}\n",
        "train_losses, val_losses = train(model, opts, train_x, train_y, val_x, val_y)"
      ]
    },
    {
      "cell_type": "code",
      "execution_count": 9,
      "id": "52a1bf7e",
      "metadata": {
        "colab": {
          "base_uri": "https://localhost:8080/",
          "height": 282
        },
        "id": "52a1bf7e",
        "outputId": "95326806-5fb4-4294-f1c0-ec03830a3d5a"
      },
      "outputs": [
        {
          "output_type": "execute_result",
          "data": {
            "text/plain": [
              "[<matplotlib.lines.Line2D at 0x7fbc5e409410>]"
            ]
          },
          "metadata": {},
          "execution_count": 9
        },
        {
          "output_type": "display_data",
          "data": {
            "text/plain": [
              "<Figure size 432x288 with 1 Axes>"
            ],
            "image/png": "[encoded data removed]"
          },
          "metadata": {
            "needs_background": "light"
          }
        }
      ],
      "source": [
        "# Graphing losses\n",
        "plt.plot(np.array([x.detach().numpy() for x in train_losses]), 'r')"
      ]
    },
    {
      "cell_type": "code",
      "execution_count": 15,
      "metadata": {
        "id": "-ezI05mFiEiH"
      },
      "outputs": [],
      "source": [
        "def plot_model_performance_single_horizon(model, x, y, num_samples, horizon):\n",
        "  assert num_samples < len(x), f\"Too many samples: {num_samples}. Input size is only {len(x)}\"\n",
        "  pred = model(x[:num_samples])\n",
        "  reality = y[horizon:num_samples+horizon]\n",
        "\n",
        "  plt.plot(pred.detach().numpy(), 'r')\n",
        "  plt.plot(reality.detach().numpy(), 'b')\n",
        "\n",
        "# def plot_model_performance_multiple_horizons(model, x, y, num_samples, horizon):\n",
        "#   assert num_samples < len(x), f\"Too many samples: {num_samples}. Input size is only {len(x)}\"\n",
        "#   pred = model(x[:num_samples])[:, horizon-1]\n",
        "#   reality = y[:num_samples][:, horizon-1]\n",
        "\n",
        "#   plt.plot(pred.detach().numpy(), 'r')\n",
        "#   plt.plot(reality.detach().numpy(), 'b')"
      ],
      "id": "-ezI05mFiEiH"
    },
    {
      "cell_type": "code",
      "source": [
        "# MODEL PERFORMANCE - TEST PART\n",
        "plot_model_performance_single_horizon(model, train_x, train_y, num_samples=400, horizon=20)"
      ],
      "metadata": {
        "colab": {
          "base_uri": "https://localhost:8080/",
          "height": 265
        },
        "id": "3jBqmTq_TUlT",
        "outputId": "70b8b0e4-6c71-4382-87d9-3f93c7772815"
      },
      "id": "3jBqmTq_TUlT",
      "execution_count": 16,
      "outputs": [
        {
          "output_type": "display_data",
          "data": {
            "text/plain": [
              "<Figure size 432x288 with 1 Axes>"
            ],
            "image/png": "[encoded data removed]"
          },
          "metadata": {
            "needs_background": "light"
          }
        }
      ]
    },
    {
      "cell_type": "code",
      "source": [
        "# MODEL'S PERFORMANCE - VALIDATION PART\n",
        "plot_model_performance_single_horizon(model, val_x, val_y, num_samples=400, horizon=20)"
      ],
      "metadata": {
        "colab": {
          "base_uri": "https://localhost:8080/",
          "height": 265
        },
        "id": "HwOpx_9ZhOH3",
        "outputId": "91b091bf-ae19-4d06-a47b-2b84d18875b8"
      },
      "id": "HwOpx_9ZhOH3",
      "execution_count": 18,
      "outputs": [
        {
          "output_type": "display_data",
          "data": {
            "text/plain": [
              "<Figure size 432x288 with 1 Axes>"
            ],
            "image/png": "[encoded data removed]"
          },
          "metadata": {
            "needs_background": "light"
          }
        }
      ]
    }
  ],
  "metadata": {
    "kernelspec": {
      "display_name": "Python 3 (ipykernel)",
      "language": "python",
      "name": "python3"
    },
    "language_info": {
      "codemirror_mode": {
        "name": "ipython",
        "version": 3
      },
      "file_extension": ".py",
      "mimetype": "text/x-python",
      "name": "python",
      "nbconvert_exporter": "python",
      "pygments_lexer": "ipython3",
      "version": "3.8.10"
    },
    "colab": {
      "name": "net.ipynb",
      "provenance": [],
      "collapsed_sections": []
    }
  },
  "nbformat": 4,
  "nbformat_minor": 5
}