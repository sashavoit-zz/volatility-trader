{
 "cells": [
  {
   "cell_type": "code",
   "execution_count": 1,
   "id": "5d9e25d8",
   "metadata": {},
   "outputs": [
    {
     "name": "stdout",
     "output_type": "stream",
     "text": [
      "Defaulting to user installation because normal site-packages is not writeable\n",
      "Requirement already satisfied: pandas in /home/sasha/.local/lib/python3.8/site-packages (1.4.2)\n",
      "Requirement already satisfied: numpy>=1.18.5 in /home/sasha/.local/lib/python3.8/site-packages (from pandas) (1.21.3)\n",
      "Requirement already satisfied: pytz>=2020.1 in /home/sasha/.local/lib/python3.8/site-packages (from pandas) (2022.1)\n",
      "Requirement already satisfied: python-dateutil>=2.8.1 in /home/sasha/.local/lib/python3.8/site-packages (from pandas) (2.8.2)\n",
      "Requirement already satisfied: six>=1.5 in /usr/lib/python3/dist-packages (from python-dateutil>=2.8.1->pandas) (1.14.0)\n",
      "\u001b[33mWARNING: You are using pip version 21.3.1; however, version 22.0.4 is available.\n",
      "You should consider upgrading via the '/usr/bin/python3 -m pip install --upgrade pip' command.\u001b[0m\n",
      "Defaulting to user installation because normal site-packages is not writeable\n",
      "Requirement already satisfied: numpy in /home/sasha/.local/lib/python3.8/site-packages (1.21.3)\n",
      "\u001b[33mWARNING: You are using pip version 21.3.1; however, version 22.0.4 is available.\n",
      "You should consider upgrading via the '/usr/bin/python3 -m pip install --upgrade pip' command.\u001b[0m\n"
     ]
    }
   ],
   "source": [
    "!pip install pandas\n",
    "!pip install numpy\n",
    "import pandas as pd\n",
    "import numpy as np"
   ]
  },
  {
   "cell_type": "code",
   "execution_count": 2,
   "id": "8d69c1f3",
   "metadata": {
    "scrolled": true
   },
   "outputs": [
    {
     "data": {
      "text/html": [
       "<div>\n",
       "<style scoped>\n",
       "    .dataframe tbody tr th:only-of-type {\n",
       "        vertical-align: middle;\n",
       "    }\n",
       "\n",
       "    .dataframe tbody tr th {\n",
       "        vertical-align: top;\n",
       "    }\n",
       "\n",
       "    .dataframe thead th {\n",
       "        text-align: right;\n",
       "    }\n",
       "</style>\n",
       "<table border=\"1\" class=\"dataframe\">\n",
       "  <thead>\n",
       "    <tr style=\"text-align: right;\">\n",
       "      <th></th>\n",
       "      <th>DATE</th>\n",
       "      <th>TIME_M</th>\n",
       "      <th>EX</th>\n",
       "      <th>SYM_ROOT</th>\n",
       "      <th>SYM_SUFFIX</th>\n",
       "      <th>TR_SCOND</th>\n",
       "      <th>SIZE</th>\n",
       "      <th>PRICE</th>\n",
       "      <th>TR_CORR</th>\n",
       "      <th>TR_SEQNUM</th>\n",
       "      <th>TR_ID</th>\n",
       "      <th>TR_SOURCE</th>\n",
       "      <th>TR_RF</th>\n",
       "    </tr>\n",
       "  </thead>\n",
       "  <tbody>\n",
       "    <tr>\n",
       "      <th>0</th>\n",
       "      <td>20210104</td>\n",
       "      <td>4:00:00.023542378</td>\n",
       "      <td>P</td>\n",
       "      <td>MSFT</td>\n",
       "      <td>NaN</td>\n",
       "      <td>@ T</td>\n",
       "      <td>113</td>\n",
       "      <td>222.75</td>\n",
       "      <td>0</td>\n",
       "      <td>1166</td>\n",
       "      <td>1</td>\n",
       "      <td>N</td>\n",
       "      <td>NaN</td>\n",
       "    </tr>\n",
       "    <tr>\n",
       "      <th>1</th>\n",
       "      <td>20210104</td>\n",
       "      <td>4:00:00.090034216</td>\n",
       "      <td>P</td>\n",
       "      <td>MSFT</td>\n",
       "      <td>NaN</td>\n",
       "      <td>@FTI</td>\n",
       "      <td>50</td>\n",
       "      <td>222.88</td>\n",
       "      <td>0</td>\n",
       "      <td>1206</td>\n",
       "      <td>2</td>\n",
       "      <td>N</td>\n",
       "      <td>NaN</td>\n",
       "    </tr>\n",
       "    <tr>\n",
       "      <th>2</th>\n",
       "      <td>20210104</td>\n",
       "      <td>4:00:00.179318250</td>\n",
       "      <td>P</td>\n",
       "      <td>MSFT</td>\n",
       "      <td>NaN</td>\n",
       "      <td>@ TI</td>\n",
       "      <td>50</td>\n",
       "      <td>222.88</td>\n",
       "      <td>0</td>\n",
       "      <td>1207</td>\n",
       "      <td>3</td>\n",
       "      <td>N</td>\n",
       "      <td>NaN</td>\n",
       "    </tr>\n",
       "    <tr>\n",
       "      <th>3</th>\n",
       "      <td>20210104</td>\n",
       "      <td>4:00:00.284123445</td>\n",
       "      <td>P</td>\n",
       "      <td>MSFT</td>\n",
       "      <td>NaN</td>\n",
       "      <td>@ TI</td>\n",
       "      <td>2</td>\n",
       "      <td>223.00</td>\n",
       "      <td>0</td>\n",
       "      <td>1211</td>\n",
       "      <td>4</td>\n",
       "      <td>N</td>\n",
       "      <td>NaN</td>\n",
       "    </tr>\n",
       "    <tr>\n",
       "      <th>4</th>\n",
       "      <td>20210104</td>\n",
       "      <td>4:00:00.284123610</td>\n",
       "      <td>P</td>\n",
       "      <td>MSFT</td>\n",
       "      <td>NaN</td>\n",
       "      <td>@ TI</td>\n",
       "      <td>2</td>\n",
       "      <td>223.00</td>\n",
       "      <td>0</td>\n",
       "      <td>1212</td>\n",
       "      <td>5</td>\n",
       "      <td>N</td>\n",
       "      <td>NaN</td>\n",
       "    </tr>\n",
       "  </tbody>\n",
       "</table>\n",
       "</div>"
      ],
      "text/plain": [
       "       DATE             TIME_M EX SYM_ROOT  SYM_SUFFIX TR_SCOND  SIZE   PRICE  \\\n",
       "0  20210104  4:00:00.023542378  P     MSFT         NaN      @ T   113  222.75   \n",
       "1  20210104  4:00:00.090034216  P     MSFT         NaN     @FTI    50  222.88   \n",
       "2  20210104  4:00:00.179318250  P     MSFT         NaN     @ TI    50  222.88   \n",
       "3  20210104  4:00:00.284123445  P     MSFT         NaN     @ TI     2  223.00   \n",
       "4  20210104  4:00:00.284123610  P     MSFT         NaN     @ TI     2  223.00   \n",
       "\n",
       "   TR_CORR  TR_SEQNUM  TR_ID TR_SOURCE TR_RF  \n",
       "0        0       1166      1         N   NaN  \n",
       "1        0       1206      2         N   NaN  \n",
       "2        0       1207      3         N   NaN  \n",
       "3        0       1211      4         N   NaN  \n",
       "4        0       1212      5         N   NaN  "
      ]
     },
     "execution_count": 2,
     "metadata": {},
     "output_type": "execute_result"
    }
   ],
   "source": [
    "df = pd.read_csv(\"km0iloobr6plqesn.csv\")\n",
    "df.head()"
   ]
  },
  {
   "cell_type": "code",
   "execution_count": 3,
   "id": "cb5c8963",
   "metadata": {},
   "outputs": [
    {
     "data": {
      "text/html": [
       "<div>\n",
       "<style scoped>\n",
       "    .dataframe tbody tr th:only-of-type {\n",
       "        vertical-align: middle;\n",
       "    }\n",
       "\n",
       "    .dataframe tbody tr th {\n",
       "        vertical-align: top;\n",
       "    }\n",
       "\n",
       "    .dataframe thead th {\n",
       "        text-align: right;\n",
       "    }\n",
       "</style>\n",
       "<table border=\"1\" class=\"dataframe\">\n",
       "  <thead>\n",
       "    <tr style=\"text-align: right;\">\n",
       "      <th></th>\n",
       "      <th>DATE</th>\n",
       "      <th>TIME_M</th>\n",
       "      <th>SIZE</th>\n",
       "      <th>PRICE</th>\n",
       "    </tr>\n",
       "  </thead>\n",
       "  <tbody>\n",
       "    <tr>\n",
       "      <th>0</th>\n",
       "      <td>20210104</td>\n",
       "      <td>4:00:00.023542378</td>\n",
       "      <td>113</td>\n",
       "      <td>222.75</td>\n",
       "    </tr>\n",
       "    <tr>\n",
       "      <th>1</th>\n",
       "      <td>20210104</td>\n",
       "      <td>4:00:00.090034216</td>\n",
       "      <td>50</td>\n",
       "      <td>222.88</td>\n",
       "    </tr>\n",
       "    <tr>\n",
       "      <th>2</th>\n",
       "      <td>20210104</td>\n",
       "      <td>4:00:00.179318250</td>\n",
       "      <td>50</td>\n",
       "      <td>222.88</td>\n",
       "    </tr>\n",
       "    <tr>\n",
       "      <th>3</th>\n",
       "      <td>20210104</td>\n",
       "      <td>4:00:00.284123445</td>\n",
       "      <td>2</td>\n",
       "      <td>223.00</td>\n",
       "    </tr>\n",
       "    <tr>\n",
       "      <th>4</th>\n",
       "      <td>20210104</td>\n",
       "      <td>4:00:00.284123610</td>\n",
       "      <td>2</td>\n",
       "      <td>223.00</td>\n",
       "    </tr>\n",
       "  </tbody>\n",
       "</table>\n",
       "</div>"
      ],
      "text/plain": [
       "       DATE             TIME_M  SIZE   PRICE\n",
       "0  20210104  4:00:00.023542378   113  222.75\n",
       "1  20210104  4:00:00.090034216    50  222.88\n",
       "2  20210104  4:00:00.179318250    50  222.88\n",
       "3  20210104  4:00:00.284123445     2  223.00\n",
       "4  20210104  4:00:00.284123610     2  223.00"
      ]
     },
     "execution_count": 3,
     "metadata": {},
     "output_type": "execute_result"
    }
   ],
   "source": [
    "df = df[['DATE', 'TIME_M', 'SIZE', 'PRICE']]\n",
    "df.head()"
   ]
  },
  {
   "cell_type": "code",
   "execution_count": null,
   "id": "0e51c42a",
   "metadata": {
    "scrolled": true
   },
   "outputs": [],
   "source": []
  },
  {
   "cell_type": "code",
   "execution_count": 4,
   "id": "e1384176",
   "metadata": {},
   "outputs": [],
   "source": [
    "df['datetime'] = pd.to_datetime(df['DATE'].astype(str) + df['TIME_M'], format='%Y%m%d%H:%M:%S.%f')"
   ]
  },
  {
   "cell_type": "code",
   "execution_count": 5,
   "id": "0d93b070",
   "metadata": {},
   "outputs": [
    {
     "data": {
      "text/html": [
       "<div>\n",
       "<style scoped>\n",
       "    .dataframe tbody tr th:only-of-type {\n",
       "        vertical-align: middle;\n",
       "    }\n",
       "\n",
       "    .dataframe tbody tr th {\n",
       "        vertical-align: top;\n",
       "    }\n",
       "\n",
       "    .dataframe thead th {\n",
       "        text-align: right;\n",
       "    }\n",
       "</style>\n",
       "<table border=\"1\" class=\"dataframe\">\n",
       "  <thead>\n",
       "    <tr style=\"text-align: right;\">\n",
       "      <th></th>\n",
       "      <th>DATE</th>\n",
       "      <th>TIME_M</th>\n",
       "      <th>SIZE</th>\n",
       "      <th>PRICE</th>\n",
       "    </tr>\n",
       "    <tr>\n",
       "      <th>datetime</th>\n",
       "      <th></th>\n",
       "      <th></th>\n",
       "      <th></th>\n",
       "      <th></th>\n",
       "    </tr>\n",
       "  </thead>\n",
       "  <tbody>\n",
       "    <tr>\n",
       "      <th>2021-01-04 04:00:00.023542378</th>\n",
       "      <td>20210104</td>\n",
       "      <td>4:00:00.023542378</td>\n",
       "      <td>113</td>\n",
       "      <td>222.75</td>\n",
       "    </tr>\n",
       "    <tr>\n",
       "      <th>2021-01-04 04:00:00.090034216</th>\n",
       "      <td>20210104</td>\n",
       "      <td>4:00:00.090034216</td>\n",
       "      <td>50</td>\n",
       "      <td>222.88</td>\n",
       "    </tr>\n",
       "    <tr>\n",
       "      <th>2021-01-04 04:00:00.179318250</th>\n",
       "      <td>20210104</td>\n",
       "      <td>4:00:00.179318250</td>\n",
       "      <td>50</td>\n",
       "      <td>222.88</td>\n",
       "    </tr>\n",
       "    <tr>\n",
       "      <th>2021-01-04 04:00:00.284123445</th>\n",
       "      <td>20210104</td>\n",
       "      <td>4:00:00.284123445</td>\n",
       "      <td>2</td>\n",
       "      <td>223.00</td>\n",
       "    </tr>\n",
       "    <tr>\n",
       "      <th>2021-01-04 04:00:00.284123610</th>\n",
       "      <td>20210104</td>\n",
       "      <td>4:00:00.284123610</td>\n",
       "      <td>2</td>\n",
       "      <td>223.00</td>\n",
       "    </tr>\n",
       "  </tbody>\n",
       "</table>\n",
       "</div>"
      ],
      "text/plain": [
       "                                   DATE             TIME_M  SIZE   PRICE\n",
       "datetime                                                                \n",
       "2021-01-04 04:00:00.023542378  20210104  4:00:00.023542378   113  222.75\n",
       "2021-01-04 04:00:00.090034216  20210104  4:00:00.090034216    50  222.88\n",
       "2021-01-04 04:00:00.179318250  20210104  4:00:00.179318250    50  222.88\n",
       "2021-01-04 04:00:00.284123445  20210104  4:00:00.284123445     2  223.00\n",
       "2021-01-04 04:00:00.284123610  20210104  4:00:00.284123610     2  223.00"
      ]
     },
     "execution_count": 5,
     "metadata": {},
     "output_type": "execute_result"
    }
   ],
   "source": [
    "df.set_index('datetime', inplace=True)\n",
    "df.head()"
   ]
  },
  {
   "cell_type": "code",
   "execution_count": 6,
   "id": "e4620df5",
   "metadata": {},
   "outputs": [
    {
     "data": {
      "text/html": [
       "<div>\n",
       "<style scoped>\n",
       "    .dataframe tbody tr th:only-of-type {\n",
       "        vertical-align: middle;\n",
       "    }\n",
       "\n",
       "    .dataframe tbody tr th {\n",
       "        vertical-align: top;\n",
       "    }\n",
       "\n",
       "    .dataframe thead th {\n",
       "        text-align: right;\n",
       "    }\n",
       "</style>\n",
       "<table border=\"1\" class=\"dataframe\">\n",
       "  <thead>\n",
       "    <tr style=\"text-align: right;\">\n",
       "      <th></th>\n",
       "      <th>SIZE</th>\n",
       "      <th>PRICE</th>\n",
       "    </tr>\n",
       "    <tr>\n",
       "      <th>datetime</th>\n",
       "      <th></th>\n",
       "      <th></th>\n",
       "    </tr>\n",
       "  </thead>\n",
       "  <tbody>\n",
       "    <tr>\n",
       "      <th>2021-01-04 04:00:00.023542378</th>\n",
       "      <td>113</td>\n",
       "      <td>222.75</td>\n",
       "    </tr>\n",
       "    <tr>\n",
       "      <th>2021-01-04 04:00:00.090034216</th>\n",
       "      <td>50</td>\n",
       "      <td>222.88</td>\n",
       "    </tr>\n",
       "    <tr>\n",
       "      <th>2021-01-04 04:00:00.179318250</th>\n",
       "      <td>50</td>\n",
       "      <td>222.88</td>\n",
       "    </tr>\n",
       "    <tr>\n",
       "      <th>2021-01-04 04:00:00.284123445</th>\n",
       "      <td>2</td>\n",
       "      <td>223.00</td>\n",
       "    </tr>\n",
       "    <tr>\n",
       "      <th>2021-01-04 04:00:00.284123610</th>\n",
       "      <td>2</td>\n",
       "      <td>223.00</td>\n",
       "    </tr>\n",
       "  </tbody>\n",
       "</table>\n",
       "</div>"
      ],
      "text/plain": [
       "                               SIZE   PRICE\n",
       "datetime                                   \n",
       "2021-01-04 04:00:00.023542378   113  222.75\n",
       "2021-01-04 04:00:00.090034216    50  222.88\n",
       "2021-01-04 04:00:00.179318250    50  222.88\n",
       "2021-01-04 04:00:00.284123445     2  223.00\n",
       "2021-01-04 04:00:00.284123610     2  223.00"
      ]
     },
     "execution_count": 6,
     "metadata": {},
     "output_type": "execute_result"
    }
   ],
   "source": [
    "df = df[['SIZE', 'PRICE']]\n",
    "df.head()"
   ]
  },
  {
   "cell_type": "code",
   "execution_count": 54,
   "id": "718fb7aa",
   "metadata": {},
   "outputs": [
    {
     "data": {
      "text/html": [
       "<div>\n",
       "<style scoped>\n",
       "    .dataframe tbody tr th:only-of-type {\n",
       "        vertical-align: middle;\n",
       "    }\n",
       "\n",
       "    .dataframe tbody tr th {\n",
       "        vertical-align: top;\n",
       "    }\n",
       "\n",
       "    .dataframe thead th {\n",
       "        text-align: right;\n",
       "    }\n",
       "</style>\n",
       "<table border=\"1\" class=\"dataframe\">\n",
       "  <thead>\n",
       "    <tr style=\"text-align: right;\">\n",
       "      <th></th>\n",
       "      <th>SIZE</th>\n",
       "      <th>PRICE</th>\n",
       "      <th>num_trades</th>\n",
       "    </tr>\n",
       "    <tr>\n",
       "      <th>datetime</th>\n",
       "      <th></th>\n",
       "      <th></th>\n",
       "      <th></th>\n",
       "    </tr>\n",
       "  </thead>\n",
       "  <tbody>\n",
       "    <tr>\n",
       "      <th>2021-01-04 04:00:00.023542378</th>\n",
       "      <td>113</td>\n",
       "      <td>222.75</td>\n",
       "      <td>1</td>\n",
       "    </tr>\n",
       "    <tr>\n",
       "      <th>2021-01-04 04:00:00.090034216</th>\n",
       "      <td>50</td>\n",
       "      <td>222.88</td>\n",
       "      <td>1</td>\n",
       "    </tr>\n",
       "    <tr>\n",
       "      <th>2021-01-04 04:00:00.179318250</th>\n",
       "      <td>50</td>\n",
       "      <td>222.88</td>\n",
       "      <td>1</td>\n",
       "    </tr>\n",
       "    <tr>\n",
       "      <th>2021-01-04 04:00:00.284123445</th>\n",
       "      <td>2</td>\n",
       "      <td>223.00</td>\n",
       "      <td>1</td>\n",
       "    </tr>\n",
       "    <tr>\n",
       "      <th>2021-01-04 04:00:00.284123610</th>\n",
       "      <td>2</td>\n",
       "      <td>223.00</td>\n",
       "      <td>1</td>\n",
       "    </tr>\n",
       "  </tbody>\n",
       "</table>\n",
       "</div>"
      ],
      "text/plain": [
       "                               SIZE   PRICE  num_trades\n",
       "datetime                                               \n",
       "2021-01-04 04:00:00.023542378   113  222.75           1\n",
       "2021-01-04 04:00:00.090034216    50  222.88           1\n",
       "2021-01-04 04:00:00.179318250    50  222.88           1\n",
       "2021-01-04 04:00:00.284123445     2  223.00           1\n",
       "2021-01-04 04:00:00.284123610     2  223.00           1"
      ]
     },
     "execution_count": 54,
     "metadata": {},
     "output_type": "execute_result"
    }
   ],
   "source": [
    "df = df.assign(num_trades=1)\n",
    "df.head()"
   ]
  },
  {
   "cell_type": "code",
   "execution_count": 55,
   "id": "7be7b455",
   "metadata": {},
   "outputs": [
    {
     "data": {
      "text/html": [
       "<div>\n",
       "<style scoped>\n",
       "    .dataframe tbody tr th:only-of-type {\n",
       "        vertical-align: middle;\n",
       "    }\n",
       "\n",
       "    .dataframe tbody tr th {\n",
       "        vertical-align: top;\n",
       "    }\n",
       "\n",
       "    .dataframe thead th {\n",
       "        text-align: right;\n",
       "    }\n",
       "</style>\n",
       "<table border=\"1\" class=\"dataframe\">\n",
       "  <thead>\n",
       "    <tr style=\"text-align: right;\">\n",
       "      <th></th>\n",
       "      <th>SIZE</th>\n",
       "      <th>PRICE</th>\n",
       "      <th>num_trades</th>\n",
       "    </tr>\n",
       "    <tr>\n",
       "      <th>datetime</th>\n",
       "      <th></th>\n",
       "      <th></th>\n",
       "      <th></th>\n",
       "    </tr>\n",
       "  </thead>\n",
       "  <tbody>\n",
       "    <tr>\n",
       "      <th>2021-01-04 04:00:00</th>\n",
       "      <td>217</td>\n",
       "      <td>1114.51</td>\n",
       "      <td>5</td>\n",
       "    </tr>\n",
       "    <tr>\n",
       "      <th>2021-01-04 04:00:02</th>\n",
       "      <td>0</td>\n",
       "      <td>0.00</td>\n",
       "      <td>0</td>\n",
       "    </tr>\n",
       "    <tr>\n",
       "      <th>2021-01-04 04:00:04</th>\n",
       "      <td>0</td>\n",
       "      <td>0.00</td>\n",
       "      <td>0</td>\n",
       "    </tr>\n",
       "    <tr>\n",
       "      <th>2021-01-04 04:00:06</th>\n",
       "      <td>0</td>\n",
       "      <td>0.00</td>\n",
       "      <td>0</td>\n",
       "    </tr>\n",
       "    <tr>\n",
       "      <th>2021-01-04 04:00:08</th>\n",
       "      <td>0</td>\n",
       "      <td>0.00</td>\n",
       "      <td>0</td>\n",
       "    </tr>\n",
       "  </tbody>\n",
       "</table>\n",
       "</div>"
      ],
      "text/plain": [
       "                     SIZE    PRICE  num_trades\n",
       "datetime                                      \n",
       "2021-01-04 04:00:00   217  1114.51           5\n",
       "2021-01-04 04:00:02     0     0.00           0\n",
       "2021-01-04 04:00:04     0     0.00           0\n",
       "2021-01-04 04:00:06     0     0.00           0\n",
       "2021-01-04 04:00:08     0     0.00           0"
      ]
     },
     "execution_count": 55,
     "metadata": {},
     "output_type": "execute_result"
    }
   ],
   "source": [
    "df_2 = df.resample('2s').sum()\n",
    "df_2.head()"
   ]
  },
  {
   "cell_type": "code",
   "execution_count": 56,
   "id": "5af963b8",
   "metadata": {},
   "outputs": [
    {
     "data": {
      "text/html": [
       "<div>\n",
       "<style scoped>\n",
       "    .dataframe tbody tr th:only-of-type {\n",
       "        vertical-align: middle;\n",
       "    }\n",
       "\n",
       "    .dataframe tbody tr th {\n",
       "        vertical-align: top;\n",
       "    }\n",
       "\n",
       "    .dataframe thead th {\n",
       "        text-align: right;\n",
       "    }\n",
       "</style>\n",
       "<table border=\"1\" class=\"dataframe\">\n",
       "  <thead>\n",
       "    <tr style=\"text-align: right;\">\n",
       "      <th></th>\n",
       "      <th>SIZE</th>\n",
       "      <th>PRICE</th>\n",
       "      <th>num_trades</th>\n",
       "    </tr>\n",
       "    <tr>\n",
       "      <th>datetime</th>\n",
       "      <th></th>\n",
       "      <th></th>\n",
       "      <th></th>\n",
       "    </tr>\n",
       "  </thead>\n",
       "  <tbody>\n",
       "    <tr>\n",
       "      <th>2021-01-04 04:00:00</th>\n",
       "      <td>217</td>\n",
       "      <td>222.902</td>\n",
       "      <td>5</td>\n",
       "    </tr>\n",
       "    <tr>\n",
       "      <th>2021-01-04 04:00:02</th>\n",
       "      <td>0</td>\n",
       "      <td>NaN</td>\n",
       "      <td>0</td>\n",
       "    </tr>\n",
       "    <tr>\n",
       "      <th>2021-01-04 04:00:04</th>\n",
       "      <td>0</td>\n",
       "      <td>NaN</td>\n",
       "      <td>0</td>\n",
       "    </tr>\n",
       "    <tr>\n",
       "      <th>2021-01-04 04:00:06</th>\n",
       "      <td>0</td>\n",
       "      <td>NaN</td>\n",
       "      <td>0</td>\n",
       "    </tr>\n",
       "    <tr>\n",
       "      <th>2021-01-04 04:00:08</th>\n",
       "      <td>0</td>\n",
       "      <td>NaN</td>\n",
       "      <td>0</td>\n",
       "    </tr>\n",
       "  </tbody>\n",
       "</table>\n",
       "</div>"
      ],
      "text/plain": [
       "                     SIZE    PRICE  num_trades\n",
       "datetime                                      \n",
       "2021-01-04 04:00:00   217  222.902           5\n",
       "2021-01-04 04:00:02     0      NaN           0\n",
       "2021-01-04 04:00:04     0      NaN           0\n",
       "2021-01-04 04:00:06     0      NaN           0\n",
       "2021-01-04 04:00:08     0      NaN           0"
      ]
     },
     "execution_count": 56,
     "metadata": {},
     "output_type": "execute_result"
    }
   ],
   "source": [
    "df_2['PRICE'] = df_2['PRICE']/df_2['num_trades']\n",
    "df_2.head()"
   ]
  },
  {
   "cell_type": "code",
   "execution_count": 57,
   "id": "cfdb6f9a",
   "metadata": {},
   "outputs": [
    {
     "data": {
      "text/plain": [
       "<AxesSubplot:xlabel='datetime'>"
      ]
     },
     "execution_count": 57,
     "metadata": {},
     "output_type": "execute_result"
    },
    {
     "data": {
      "image/png": "[encoded data removed]",
      "text/plain": [
       "<Figure size 432x288 with 1 Axes>"
      ]
     },
     "metadata": {
      "needs_background": "light"
     },
     "output_type": "display_data"
    }
   ],
   "source": [
    "df_2[:30000].PRICE.plot()"
   ]
  },
  {
   "cell_type": "code",
   "execution_count": 58,
   "id": "1b3de7a9",
   "metadata": {},
   "outputs": [],
   "source": [
    "df_2['log_return'] = np.log(df_2['PRICE']/df_2['PRICE'].shift())"
   ]
  },
  {
   "cell_type": "code",
   "execution_count": 59,
   "id": "8f5bf2b0",
   "metadata": {},
   "outputs": [
    {
     "data": {
      "text/html": [
       "<div>\n",
       "<style scoped>\n",
       "    .dataframe tbody tr th:only-of-type {\n",
       "        vertical-align: middle;\n",
       "    }\n",
       "\n",
       "    .dataframe tbody tr th {\n",
       "        vertical-align: top;\n",
       "    }\n",
       "\n",
       "    .dataframe thead th {\n",
       "        text-align: right;\n",
       "    }\n",
       "</style>\n",
       "<table border=\"1\" class=\"dataframe\">\n",
       "  <thead>\n",
       "    <tr style=\"text-align: right;\">\n",
       "      <th></th>\n",
       "      <th>SIZE</th>\n",
       "      <th>PRICE</th>\n",
       "      <th>num_trades</th>\n",
       "      <th>log_return</th>\n",
       "      <th>vol</th>\n",
       "    </tr>\n",
       "    <tr>\n",
       "      <th>datetime</th>\n",
       "      <th></th>\n",
       "      <th></th>\n",
       "      <th></th>\n",
       "      <th></th>\n",
       "      <th></th>\n",
       "    </tr>\n",
       "  </thead>\n",
       "  <tbody>\n",
       "    <tr>\n",
       "      <th>2021-01-04 04:00:00</th>\n",
       "      <td>217</td>\n",
       "      <td>222.902</td>\n",
       "      <td>5</td>\n",
       "      <td>NaN</td>\n",
       "      <td>NaN</td>\n",
       "    </tr>\n",
       "    <tr>\n",
       "      <th>2021-01-04 04:00:02</th>\n",
       "      <td>0</td>\n",
       "      <td>NaN</td>\n",
       "      <td>0</td>\n",
       "      <td>NaN</td>\n",
       "      <td>NaN</td>\n",
       "    </tr>\n",
       "    <tr>\n",
       "      <th>2021-01-04 04:00:04</th>\n",
       "      <td>0</td>\n",
       "      <td>NaN</td>\n",
       "      <td>0</td>\n",
       "      <td>NaN</td>\n",
       "      <td>NaN</td>\n",
       "    </tr>\n",
       "    <tr>\n",
       "      <th>2021-01-04 04:00:06</th>\n",
       "      <td>0</td>\n",
       "      <td>NaN</td>\n",
       "      <td>0</td>\n",
       "      <td>NaN</td>\n",
       "      <td>NaN</td>\n",
       "    </tr>\n",
       "    <tr>\n",
       "      <th>2021-01-04 04:00:08</th>\n",
       "      <td>0</td>\n",
       "      <td>NaN</td>\n",
       "      <td>0</td>\n",
       "      <td>NaN</td>\n",
       "      <td>NaN</td>\n",
       "    </tr>\n",
       "  </tbody>\n",
       "</table>\n",
       "</div>"
      ],
      "text/plain": [
       "                     SIZE    PRICE  num_trades  log_return  vol\n",
       "datetime                                                       \n",
       "2021-01-04 04:00:00   217  222.902           5         NaN  NaN\n",
       "2021-01-04 04:00:02     0      NaN           0         NaN  NaN\n",
       "2021-01-04 04:00:04     0      NaN           0         NaN  NaN\n",
       "2021-01-04 04:00:06     0      NaN           0         NaN  NaN\n",
       "2021-01-04 04:00:08     0      NaN           0         NaN  NaN"
      ]
     },
     "execution_count": 59,
     "metadata": {},
     "output_type": "execute_result"
    }
   ],
   "source": [
    "df_2['vol'] = df_2['log_return'].rolling(100).std()\n",
    "df_2.head()"
   ]
  },
  {
   "cell_type": "code",
   "execution_count": 60,
   "id": "15b209aa",
   "metadata": {},
   "outputs": [
    {
     "data": {
      "text/plain": [
       "<AxesSubplot:xlabel='datetime'>"
      ]
     },
     "execution_count": 60,
     "metadata": {},
     "output_type": "execute_result"
    },
    {
     "data": {
      "image/png": "[encoded data removed]",
      "text/plain": [
       "<Figure size 432x288 with 1 Axes>"
      ]
     },
     "metadata": {
      "needs_background": "light"
     },
     "output_type": "display_data"
    }
   ],
   "source": [
    "df_2[:30000].vol.plot()"
   ]
  },
  {
   "cell_type": "code",
   "execution_count": 61,
   "id": "43824650",
   "metadata": {},
   "outputs": [
    {
     "data": {
      "text/plain": [
       "7675200"
      ]
     },
     "execution_count": 61,
     "metadata": {},
     "output_type": "execute_result"
    }
   ],
   "source": [
    "len(df_2)"
   ]
  },
  {
   "cell_type": "code",
   "execution_count": 62,
   "id": "05a3a933",
   "metadata": {},
   "outputs": [
    {
     "data": {
      "text/html": [
       "<div>\n",
       "<style scoped>\n",
       "    .dataframe tbody tr th:only-of-type {\n",
       "        vertical-align: middle;\n",
       "    }\n",
       "\n",
       "    .dataframe tbody tr th {\n",
       "        vertical-align: top;\n",
       "    }\n",
       "\n",
       "    .dataframe thead th {\n",
       "        text-align: right;\n",
       "    }\n",
       "</style>\n",
       "<table border=\"1\" class=\"dataframe\">\n",
       "  <thead>\n",
       "    <tr style=\"text-align: right;\">\n",
       "      <th></th>\n",
       "      <th>PRICE</th>\n",
       "      <th>SIZE</th>\n",
       "      <th>vol</th>\n",
       "    </tr>\n",
       "    <tr>\n",
       "      <th>datetime</th>\n",
       "      <th></th>\n",
       "      <th></th>\n",
       "      <th></th>\n",
       "    </tr>\n",
       "  </thead>\n",
       "  <tbody>\n",
       "    <tr>\n",
       "      <th>2021-01-04 04:00:00</th>\n",
       "      <td>-1.473138</td>\n",
       "      <td>-0.009929</td>\n",
       "      <td>NaN</td>\n",
       "    </tr>\n",
       "    <tr>\n",
       "      <th>2021-01-04 04:00:02</th>\n",
       "      <td>NaN</td>\n",
       "      <td>-0.017278</td>\n",
       "      <td>NaN</td>\n",
       "    </tr>\n",
       "    <tr>\n",
       "      <th>2021-01-04 04:00:04</th>\n",
       "      <td>NaN</td>\n",
       "      <td>-0.017278</td>\n",
       "      <td>NaN</td>\n",
       "    </tr>\n",
       "    <tr>\n",
       "      <th>2021-01-04 04:00:06</th>\n",
       "      <td>NaN</td>\n",
       "      <td>-0.017278</td>\n",
       "      <td>NaN</td>\n",
       "    </tr>\n",
       "    <tr>\n",
       "      <th>2021-01-04 04:00:08</th>\n",
       "      <td>NaN</td>\n",
       "      <td>-0.017278</td>\n",
       "      <td>NaN</td>\n",
       "    </tr>\n",
       "  </tbody>\n",
       "</table>\n",
       "</div>"
      ],
      "text/plain": [
       "                        PRICE      SIZE  vol\n",
       "datetime                                    \n",
       "2021-01-04 04:00:00 -1.473138 -0.009929  NaN\n",
       "2021-01-04 04:00:02       NaN -0.017278  NaN\n",
       "2021-01-04 04:00:04       NaN -0.017278  NaN\n",
       "2021-01-04 04:00:06       NaN -0.017278  NaN\n",
       "2021-01-04 04:00:08       NaN -0.017278  NaN"
      ]
     },
     "execution_count": 62,
     "metadata": {},
     "output_type": "execute_result"
    }
   ],
   "source": [
    "df_2['PRICE'] = (df_2.PRICE - df_2.PRICE.mean())/df_2.PRICE.std(ddof=0)\n",
    "df_2['SIZE'] = (df_2.SIZE - df_2.SIZE.mean())/df_2.SIZE.std(ddof=0)\n",
    "df_2['vol'] = (df_2.vol - df_2.vol.mean())/df_2.vol.std(ddof=0)\n",
    "df_2 = df_2[['PRICE', 'SIZE', 'vol']]\n",
    "df_2.head()"
   ]
  },
  {
   "cell_type": "code",
   "execution_count": 63,
   "id": "7552dc64",
   "metadata": {},
   "outputs": [],
   "source": [
    "df_2.to_csv('2sec_normed.csv')"
   ]
  },
  {
   "cell_type": "code",
   "execution_count": 64,
   "id": "a66e8afc",
   "metadata": {},
   "outputs": [
    {
     "data": {
      "text/plain": [
       "7675200"
      ]
     },
     "execution_count": 64,
     "metadata": {},
     "output_type": "execute_result"
    }
   ],
   "source": [
    "len(df_2)"
   ]
  },
  {
   "cell_type": "code",
   "execution_count": 69,
   "id": "ce542f17",
   "metadata": {},
   "outputs": [
    {
     "data": {
      "text/html": [
       "<div>\n",
       "<style scoped>\n",
       "    .dataframe tbody tr th:only-of-type {\n",
       "        vertical-align: middle;\n",
       "    }\n",
       "\n",
       "    .dataframe tbody tr th {\n",
       "        vertical-align: top;\n",
       "    }\n",
       "\n",
       "    .dataframe thead th {\n",
       "        text-align: right;\n",
       "    }\n",
       "</style>\n",
       "<table border=\"1\" class=\"dataframe\">\n",
       "  <thead>\n",
       "    <tr style=\"text-align: right;\">\n",
       "      <th></th>\n",
       "      <th>PRICE</th>\n",
       "      <th>SIZE</th>\n",
       "      <th>vol</th>\n",
       "      <th>vol_horizon</th>\n",
       "      <th>PRICE_horizon</th>\n",
       "    </tr>\n",
       "    <tr>\n",
       "      <th>datetime</th>\n",
       "      <th></th>\n",
       "      <th></th>\n",
       "      <th></th>\n",
       "      <th></th>\n",
       "      <th></th>\n",
       "    </tr>\n",
       "  </thead>\n",
       "  <tbody>\n",
       "    <tr>\n",
       "      <th>2021-01-04 04:00:00</th>\n",
       "      <td>-1.473138</td>\n",
       "      <td>-0.009929</td>\n",
       "      <td>NaN</td>\n",
       "      <td>NaN</td>\n",
       "      <td>NaN</td>\n",
       "    </tr>\n",
       "    <tr>\n",
       "      <th>2021-01-04 04:00:02</th>\n",
       "      <td>NaN</td>\n",
       "      <td>-0.017278</td>\n",
       "      <td>NaN</td>\n",
       "      <td>NaN</td>\n",
       "      <td>NaN</td>\n",
       "    </tr>\n",
       "    <tr>\n",
       "      <th>2021-01-04 04:00:04</th>\n",
       "      <td>NaN</td>\n",
       "      <td>-0.017278</td>\n",
       "      <td>NaN</td>\n",
       "      <td>NaN</td>\n",
       "      <td>NaN</td>\n",
       "    </tr>\n",
       "    <tr>\n",
       "      <th>2021-01-04 04:00:06</th>\n",
       "      <td>NaN</td>\n",
       "      <td>-0.017278</td>\n",
       "      <td>NaN</td>\n",
       "      <td>NaN</td>\n",
       "      <td>NaN</td>\n",
       "    </tr>\n",
       "    <tr>\n",
       "      <th>2021-01-04 04:00:08</th>\n",
       "      <td>NaN</td>\n",
       "      <td>-0.017278</td>\n",
       "      <td>NaN</td>\n",
       "      <td>NaN</td>\n",
       "      <td>NaN</td>\n",
       "    </tr>\n",
       "  </tbody>\n",
       "</table>\n",
       "</div>"
      ],
      "text/plain": [
       "                        PRICE      SIZE  vol  vol_horizon  PRICE_horizon\n",
       "datetime                                                                \n",
       "2021-01-04 04:00:00 -1.473138 -0.009929  NaN          NaN            NaN\n",
       "2021-01-04 04:00:02       NaN -0.017278  NaN          NaN            NaN\n",
       "2021-01-04 04:00:04       NaN -0.017278  NaN          NaN            NaN\n",
       "2021-01-04 04:00:06       NaN -0.017278  NaN          NaN            NaN\n",
       "2021-01-04 04:00:08       NaN -0.017278  NaN          NaN            NaN"
      ]
     },
     "execution_count": 69,
     "metadata": {},
     "output_type": "execute_result"
    }
   ],
   "source": [
    "horizon=50\n",
    "df_2['vol_horizon'] = df_2.vol.shift(periods=-horizon)\n",
    "df_2['PRICE_horizon'] = df_2.PRICE.shift(periods=-horizon)\n",
    "df_2.head()"
   ]
  },
  {
   "cell_type": "code",
   "execution_count": 70,
   "id": "56ac3d34",
   "metadata": {},
   "outputs": [
    {
     "data": {
      "text/html": [
       "<div>\n",
       "<style scoped>\n",
       "    .dataframe tbody tr th:only-of-type {\n",
       "        vertical-align: middle;\n",
       "    }\n",
       "\n",
       "    .dataframe tbody tr th {\n",
       "        vertical-align: top;\n",
       "    }\n",
       "\n",
       "    .dataframe thead th {\n",
       "        text-align: right;\n",
       "    }\n",
       "</style>\n",
       "<table border=\"1\" class=\"dataframe\">\n",
       "  <thead>\n",
       "    <tr style=\"text-align: right;\">\n",
       "      <th></th>\n",
       "      <th>PRICE</th>\n",
       "      <th>SIZE</th>\n",
       "      <th>vol</th>\n",
       "      <th>vol_horizon</th>\n",
       "      <th>PRICE_horizon</th>\n",
       "    </tr>\n",
       "    <tr>\n",
       "      <th>datetime</th>\n",
       "      <th></th>\n",
       "      <th></th>\n",
       "      <th></th>\n",
       "      <th></th>\n",
       "      <th></th>\n",
       "    </tr>\n",
       "  </thead>\n",
       "  <tbody>\n",
       "    <tr>\n",
       "      <th>2021-01-04 09:33:18</th>\n",
       "      <td>-1.600373</td>\n",
       "      <td>0.031560</td>\n",
       "      <td>1.578028</td>\n",
       "      <td>1.201022</td>\n",
       "      <td>-1.633002</td>\n",
       "    </tr>\n",
       "    <tr>\n",
       "      <th>2021-01-04 09:33:20</th>\n",
       "      <td>-1.600808</td>\n",
       "      <td>0.116197</td>\n",
       "      <td>1.558087</td>\n",
       "      <td>1.278450</td>\n",
       "      <td>-1.622771</td>\n",
       "    </tr>\n",
       "    <tr>\n",
       "      <th>2021-01-04 09:33:22</th>\n",
       "      <td>-1.602416</td>\n",
       "      <td>0.149998</td>\n",
       "      <td>1.555718</td>\n",
       "      <td>1.401211</td>\n",
       "      <td>-1.637178</td>\n",
       "    </tr>\n",
       "    <tr>\n",
       "      <th>2021-01-04 09:33:24</th>\n",
       "      <td>-1.603306</td>\n",
       "      <td>0.198871</td>\n",
       "      <td>1.519604</td>\n",
       "      <td>1.411726</td>\n",
       "      <td>-1.642106</td>\n",
       "    </tr>\n",
       "    <tr>\n",
       "      <th>2021-01-04 09:33:26</th>\n",
       "      <td>-1.609564</td>\n",
       "      <td>0.144241</td>\n",
       "      <td>1.535405</td>\n",
       "      <td>1.440105</td>\n",
       "      <td>-1.649906</td>\n",
       "    </tr>\n",
       "  </tbody>\n",
       "</table>\n",
       "</div>"
      ],
      "text/plain": [
       "                        PRICE      SIZE       vol  vol_horizon  PRICE_horizon\n",
       "datetime                                                                     \n",
       "2021-01-04 09:33:18 -1.600373  0.031560  1.578028     1.201022      -1.633002\n",
       "2021-01-04 09:33:20 -1.600808  0.116197  1.558087     1.278450      -1.622771\n",
       "2021-01-04 09:33:22 -1.602416  0.149998  1.555718     1.401211      -1.637178\n",
       "2021-01-04 09:33:24 -1.603306  0.198871  1.519604     1.411726      -1.642106\n",
       "2021-01-04 09:33:26 -1.609564  0.144241  1.535405     1.440105      -1.649906"
      ]
     },
     "execution_count": 70,
     "metadata": {},
     "output_type": "execute_result"
    }
   ],
   "source": [
    "df_no_na = df_2.dropna()\n",
    "df_no_na.head()"
   ]
  },
  {
   "cell_type": "code",
   "execution_count": 71,
   "id": "8eaf8cb8",
   "metadata": {},
   "outputs": [
    {
     "data": {
      "text/plain": [
       "1045974"
      ]
     },
     "execution_count": 71,
     "metadata": {},
     "output_type": "execute_result"
    }
   ],
   "source": [
    "len(df_no_na)"
   ]
  },
  {
   "cell_type": "code",
   "execution_count": 72,
   "id": "f282c1fc",
   "metadata": {},
   "outputs": [],
   "source": [
    "df_no_na.to_csv('2sec_50horizon.csv')"
   ]
  },
  {
   "cell_type": "code",
   "execution_count": null,
   "id": "005959d6",
   "metadata": {},
   "outputs": [],
   "source": []
  }
 ],
 "metadata": {
  "kernelspec": {
   "display_name": "Python 3 (ipykernel)",
   "language": "python",
   "name": "python3"
  },
  "language_info": {
   "codemirror_mode": {
    "name": "ipython",
    "version": 3
   },
   "file_extension": ".py",
   "mimetype": "text/x-python",
   "name": "python",
   "nbconvert_exporter": "python",
   "pygments_lexer": "ipython3",
   "version": "3.8.10"
  }
 },
 "nbformat": 4,
 "nbformat_minor": 5
}
